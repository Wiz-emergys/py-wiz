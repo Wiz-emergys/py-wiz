{
 "cells": [
  {
   "cell_type": "markdown",
   "metadata": {},
   "source": [
    "#### Simple Pattern Printing Questions For Practice "
   ]
  },
  {
   "cell_type": "code",
   "execution_count": 66,
   "metadata": {},
   "outputs": [],
   "source": [
    "def numbers_pattern(n):\n",
    "    for i in range(1,n+1):\n",
    "        for j in range(1,i+1):\n",
    "            print(f\"{j} \" \" \",end=\"\")\n",
    "        print(\"\")"
   ]
  },
  {
   "cell_type": "code",
   "execution_count": 67,
   "metadata": {},
   "outputs": [
    {
     "name": "stdout",
     "output_type": "stream",
     "text": [
      "1  \n",
      "1  2  \n",
      "1  2  3  \n",
      "1  2  3  4  \n"
     ]
    }
   ],
   "source": [
    "numbers_pattern(4)"
   ]
  },
  {
   "cell_type": "code",
   "execution_count": 39,
   "metadata": {},
   "outputs": [],
   "source": [
    "def pyaramid(n):\n",
    "    for i in range(n):\n",
    "        for j in range(n - i - 1):\n",
    "            print(\"_\", end=\"\")\n",
    "\n",
    "        for j in range(2 * i + 1):\n",
    "            if j == 0 or j == 2 * i or i == n - 1:\n",
    "                print(\"*\", end=\"\")\n",
    "            else:\n",
    "                print(\"_\", end=\"\")\n",
    "        print()"
   ]
  },
  {
   "cell_type": "code",
   "execution_count": 40,
   "metadata": {},
   "outputs": [
    {
     "name": "stdout",
     "output_type": "stream",
     "text": [
      "____*\n",
      "___*_*\n",
      "__*___*\n",
      "_*_____*\n",
      "*********\n"
     ]
    }
   ],
   "source": [
    "pyaramid(5)"
   ]
  },
  {
   "cell_type": "code",
   "execution_count": 41,
   "metadata": {},
   "outputs": [],
   "source": [
    "\n",
    "def rev_pyaramid(n):\n",
    "    for i in range(n): \n",
    "        print(\"_\"* i, end=\"\")\n",
    "\n",
    "        for j in range(2*(n-i)-1):\n",
    "            if j == 0 or j == 2*(n-i)-1 - 1  or i == 0:\n",
    "                print(\"*\", end=\"\")\n",
    "            else:\n",
    "                print(\"_\", end=\"\")\n",
    "        print()\n"
   ]
  },
  {
   "cell_type": "code",
   "execution_count": 42,
   "metadata": {},
   "outputs": [
    {
     "name": "stdout",
     "output_type": "stream",
     "text": [
      "*********\n",
      "_*_____*\n",
      "__*___*\n",
      "___*_*\n",
      "____*\n"
     ]
    }
   ],
   "source": [
    "rev_pyaramid(5)"
   ]
  },
  {
   "cell_type": "code",
   "execution_count": 43,
   "metadata": {},
   "outputs": [],
   "source": [
    "def right_angled_triangle(n):\n",
    "    for i in range(n+1):\n",
    "        for j in range(i):\n",
    "            print(\" * \", end=\"\")\n",
    "        print()"
   ]
  },
  {
   "cell_type": "code",
   "execution_count": 44,
   "metadata": {},
   "outputs": [
    {
     "name": "stdout",
     "output_type": "stream",
     "text": [
      "\n",
      " * \n",
      " *  * \n",
      " *  *  * \n",
      " *  *  *  * \n"
     ]
    }
   ],
   "source": [
    "right_angled_triangle(4)"
   ]
  },
  {
   "cell_type": "code",
   "execution_count": 45,
   "metadata": {},
   "outputs": [],
   "source": [
    "def rev_right_angled_triangle(n):\n",
    "    for i in range(n+1):\n",
    "        for j in range(n-i):\n",
    "            print(\" * \", end=\"\")\n",
    "        print()"
   ]
  },
  {
   "cell_type": "code",
   "execution_count": 46,
   "metadata": {},
   "outputs": [
    {
     "name": "stdout",
     "output_type": "stream",
     "text": [
      " *  *  *  *  * \n",
      " *  *  *  * \n",
      " *  *  * \n",
      " *  * \n",
      " * \n",
      "\n"
     ]
    }
   ],
   "source": [
    "rev_right_angled_triangle(5)"
   ]
  },
  {
   "cell_type": "code",
   "execution_count": 47,
   "metadata": {},
   "outputs": [],
   "source": [
    "def horizontal_pyramid(n):\n",
    "    for i in range(1, n+1):\n",
    "        print(\"*\"*i)\n",
    "    for j in range(n-1, 0, -1):\n",
    "        print(\"*\"*j)\n"
   ]
  },
  {
   "cell_type": "code",
   "execution_count": 48,
   "metadata": {},
   "outputs": [
    {
     "name": "stdout",
     "output_type": "stream",
     "text": [
      "*\n",
      "**\n",
      "***\n",
      "****\n",
      "*****\n",
      "****\n",
      "***\n",
      "**\n",
      "*\n"
     ]
    }
   ],
   "source": [
    "horizontal_pyramid(5)"
   ]
  },
  {
   "cell_type": "code",
   "execution_count": 52,
   "metadata": {},
   "outputs": [],
   "source": [
    "def Pattern_A(n):\n",
    "    for i in range(n):\n",
    "        for j in range((2 * n) - 1):\n",
    "            if (j == n - i - 1) or (j == n + i - 1) or (i == n // 2 and j > n - i - 1 and j < n + i - 1):\n",
    "                print(\"*\", end=\"\")\n",
    "            else:\n",
    "                print(\"_\", end=\"\")\n",
    "        print()"
   ]
  },
  {
   "cell_type": "code",
   "execution_count": 53,
   "metadata": {},
   "outputs": [
    {
     "name": "stdout",
     "output_type": "stream",
     "text": [
      "____*____\n",
      "___*_*___\n",
      "__*****__\n",
      "_*_____*_\n",
      "*_______*\n"
     ]
    }
   ],
   "source": [
    "Pattern_A(5)"
   ]
  },
  {
   "cell_type": "code",
   "execution_count": 51,
   "metadata": {},
   "outputs": [
    {
     "name": "stdout",
     "output_type": "stream",
     "text": [
      "    #                                \n",
      "   # #   #    #   ##    ####  #    # \n",
      "  #   #  #   #   #  #  #      #    # \n",
      " #     # ####   #    #  ####  ###### \n",
      " ####### #  #   ######      # #    # \n",
      " #     # #   #  #    # #    # #    # \n",
      " #     # #    # #    #  ####  #    # \n"
     ]
    }
   ],
   "source": [
    "Pattern=[\n",
    "\"    #                                \",\n",
    "\"   # #   #    #   ##    ####  #    # \",\n",
    "\"  #   #  #   #   #  #  #      #    # \",\n",
    "\" #     # ####   #    #  ####  ###### \",\n",
    "\" ####### #  #   ######      # #    # \",\n",
    "\" #     # #   #  #    # #    # #    # \",\n",
    "\" #     # #    # #    #  ####  #    # \"\n",
    "]\n",
    "\n",
    "for i in Pattern:\n",
    "    print(i)"
   ]
  },
  {
   "cell_type": "code",
   "execution_count": null,
   "metadata": {},
   "outputs": [],
   "source": [
    "import pandas as pd\n",
    "\n",
    "# Load the dataset\n",
    "deliveries_df = pd.read_csv(\"deliveries.csv\")  # Ensure the file exists\n",
    "\n",
    "# Group by bowling team and sum the extra runs\n",
    "extra_runs_by_team = deliveries_df.groupby('bowling_team')['extra_runs'].sum()\n",
    "\n",
    "# Find the team that conceded the most extra runs\n",
    "top_team = extra_runs_by_team.idxmax()\n",
    "max_extra_runs = extra_runs_by_team.max()\n",
    "\n",
    "# Display the result\n",
    "print(f\"Team conceding the most extra runs: {top_team} with {max_extra_runs} extra runs\")\n"
   ]
  },
  {
   "cell_type": "code",
   "execution_count": null,
   "metadata": {},
   "outputs": [],
   "source": [
    "count = 1  # Initializing match_id counter\n",
    "previous_inning = None  # To track previous inning\n",
    "\n",
    "for i in range(len(data)):\n",
    "    current_inning = data[i]['inning']  # Extract inning value\n",
    "\n",
    "    if previous_inning == 2 and current_inning == 1:\n",
    "        count += 1  # Increment match_id when innings reset\n",
    "\n",
    "    data[i]['match_id'] = count  # Assign match_id to the row\n",
    "    previous_inning = current_inning  # Update previous inning\n"
   ]
  },
  {
   "cell_type": "code",
   "execution_count": null,
   "metadata": {},
   "outputs": [],
   "source": [
    "import pandas as pd\n",
    "\n",
    "# Load the deliveries dataset\n",
    "deliveries_df = pd.read_csv(\"deliveries.csv\")  # Ensure you have the dataset\n",
    "\n",
    "# Exclude dismissals that are not credited to the bowler\n",
    "valid_dismissals = ['bowled', 'caught', 'lbw', 'stumped', 'caught and bowled', 'hit wicket']\n",
    "\n",
    "# Filter only valid dismissals\n",
    "filtered_df = deliveries_df[deliveries_df['dismissal_kind'].isin(valid_dismissals)]\n",
    "\n",
    "# Count the number of dismissals per bowler\n",
    "bowler_wickets = filtered_df.groupby('bowler').size().reset_index(name='total_wickets')\n",
    "\n",
    "# Get the bowler with the highest wickets\n",
    "top_bowler = bowler_wickets.sort_values(by='total_wickets', ascending=False).iloc[0]\n",
    "\n",
    "# Display the result\n",
    "print(f\"Top Bowler: {top_bowler['bowler']} with {top_bowler['total_wickets']} wickets\")\n"
   ]
  },
  {
   "cell_type": "code",
   "execution_count": null,
   "metadata": {},
   "outputs": [],
   "source": [
    "total_runs = filtered_df['batsman_runs'].sum()\n",
    "total_balls = len(filtered_df)\n",
    "strike_rate = (total_runs / total_balls) * 100\n"
   ]
  }
 ],
 "metadata": {
  "kernelspec": {
   "display_name": "Python 3",
   "language": "python",
   "name": "python3"
  },
  "language_info": {
   "codemirror_mode": {
    "name": "ipython",
    "version": 3
   },
   "file_extension": ".py",
   "mimetype": "text/x-python",
   "name": "python",
   "nbconvert_exporter": "python",
   "pygments_lexer": "ipython3",
   "version": "3.13.1"
  }
 },
 "nbformat": 4,
 "nbformat_minor": 2
}
