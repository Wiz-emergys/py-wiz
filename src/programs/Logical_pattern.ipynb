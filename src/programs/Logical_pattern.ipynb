{
 "cells": [
  {
   "cell_type": "code",
   "execution_count": 66,
   "metadata": {},
   "outputs": [],
   "source": [
    "def numbers_pattern(n):\n",
    "    for i in range(1,n+1):\n",
    "        for j in range(1,i+1):\n",
    "            print(f\"{j} \" \" \",end=\"\")\n",
    "        print(\"\")"
   ]
  },
  {
   "cell_type": "code",
   "execution_count": 67,
   "metadata": {},
   "outputs": [
    {
     "name": "stdout",
     "output_type": "stream",
     "text": [
      "1  \n",
      "1  2  \n",
      "1  2  3  \n",
      "1  2  3  4  \n"
     ]
    }
   ],
   "source": [
    "numbers_pattern(4)"
   ]
  },
  {
   "cell_type": "code",
   "execution_count": 39,
   "metadata": {},
   "outputs": [],
   "source": [
    "def pyaramid(n):\n",
    "    for i in range(n):\n",
    "        for j in range(n - i - 1):\n",
    "            print(\"_\", end=\"\")\n",
    "\n",
    "        for j in range(2 * i + 1):\n",
    "            if j == 0 or j == 2 * i or i == n - 1:\n",
    "                print(\"*\", end=\"\")\n",
    "            else:\n",
    "                print(\"_\", end=\"\")\n",
    "        print()"
   ]
  },
  {
   "cell_type": "code",
   "execution_count": 40,
   "metadata": {},
   "outputs": [
    {
     "name": "stdout",
     "output_type": "stream",
     "text": [
      "____*\n",
      "___*_*\n",
      "__*___*\n",
      "_*_____*\n",
      "*********\n"
     ]
    }
   ],
   "source": [
    "pyaramid(5)"
   ]
  },
  {
   "cell_type": "code",
   "execution_count": 41,
   "metadata": {},
   "outputs": [],
   "source": [
    "\n",
    "def rev_pyaramid(n):\n",
    "    for i in range(n): \n",
    "        print(\"_\"* i, end=\"\")\n",
    "\n",
    "        for j in range(2*(n-i)-1):\n",
    "            if j == 0 or j == 2*(n-i)-1 - 1  or i == 0:\n",
    "                print(\"*\", end=\"\")\n",
    "            else:\n",
    "                print(\"_\", end=\"\")\n",
    "        print()\n"
   ]
  },
  {
   "cell_type": "code",
   "execution_count": 42,
   "metadata": {},
   "outputs": [
    {
     "name": "stdout",
     "output_type": "stream",
     "text": [
      "*********\n",
      "_*_____*\n",
      "__*___*\n",
      "___*_*\n",
      "____*\n"
     ]
    }
   ],
   "source": [
    "rev_pyaramid(5)"
   ]
  },
  {
   "cell_type": "code",
   "execution_count": 43,
   "metadata": {},
   "outputs": [],
   "source": [
    "def right_angled_triangle(n):\n",
    "    for i in range(n+1):\n",
    "        for j in range(i):\n",
    "            print(\" * \", end=\"\")\n",
    "        print()"
   ]
  },
  {
   "cell_type": "code",
   "execution_count": 44,
   "metadata": {},
   "outputs": [
    {
     "name": "stdout",
     "output_type": "stream",
     "text": [
      "\n",
      " * \n",
      " *  * \n",
      " *  *  * \n",
      " *  *  *  * \n"
     ]
    }
   ],
   "source": [
    "right_angled_triangle(4)"
   ]
  },
  {
   "cell_type": "code",
   "execution_count": 45,
   "metadata": {},
   "outputs": [],
   "source": [
    "def rev_right_angled_triangle(n):\n",
    "    for i in range(n+1):\n",
    "        for j in range(n-i):\n",
    "            print(\" * \", end=\"\")\n",
    "        print()"
   ]
  },
  {
   "cell_type": "code",
   "execution_count": 46,
   "metadata": {},
   "outputs": [
    {
     "name": "stdout",
     "output_type": "stream",
     "text": [
      " *  *  *  *  * \n",
      " *  *  *  * \n",
      " *  *  * \n",
      " *  * \n",
      " * \n",
      "\n"
     ]
    }
   ],
   "source": [
    "rev_right_angled_triangle(5)"
   ]
  },
  {
   "cell_type": "code",
   "execution_count": 47,
   "metadata": {},
   "outputs": [],
   "source": [
    "def horizontal_pyramid(n):\n",
    "    for i in range(1, n+1):\n",
    "        print(\"*\"*i)\n",
    "    for j in range(n-1, 0, -1):\n",
    "        print(\"*\"*j)\n"
   ]
  },
  {
   "cell_type": "code",
   "execution_count": 48,
   "metadata": {},
   "outputs": [
    {
     "name": "stdout",
     "output_type": "stream",
     "text": [
      "*\n",
      "**\n",
      "***\n",
      "****\n",
      "*****\n",
      "****\n",
      "***\n",
      "**\n",
      "*\n"
     ]
    }
   ],
   "source": [
    "horizontal_pyramid(5)"
   ]
  },
  {
   "cell_type": "code",
   "execution_count": 52,
   "metadata": {},
   "outputs": [],
   "source": [
    "def Pattern_A(n):\n",
    "    for i in range(n):\n",
    "        for j in range((2 * n) - 1):\n",
    "            if (j == n - i - 1) or (j == n + i - 1) or (i == n // 2 and j > n - i - 1 and j < n + i - 1):\n",
    "                print(\"*\", end=\"\")\n",
    "            else:\n",
    "                print(\"_\", end=\"\")\n",
    "        print()"
   ]
  },
  {
   "cell_type": "code",
   "execution_count": 53,
   "metadata": {},
   "outputs": [
    {
     "name": "stdout",
     "output_type": "stream",
     "text": [
      "____*____\n",
      "___*_*___\n",
      "__*****__\n",
      "_*_____*_\n",
      "*_______*\n"
     ]
    }
   ],
   "source": [
    "Pattern_A(5)"
   ]
  },
  {
   "cell_type": "code",
   "execution_count": 51,
   "metadata": {},
   "outputs": [
    {
     "name": "stdout",
     "output_type": "stream",
     "text": [
      "    #                                \n",
      "   # #   #    #   ##    ####  #    # \n",
      "  #   #  #   #   #  #  #      #    # \n",
      " #     # ####   #    #  ####  ###### \n",
      " ####### #  #   ######      # #    # \n",
      " #     # #   #  #    # #    # #    # \n",
      " #     # #    # #    #  ####  #    # \n"
     ]
    }
   ],
   "source": [
    "Pattern=[\n",
    "\"    #                                \",\n",
    "\"   # #   #    #   ##    ####  #    # \",\n",
    "\"  #   #  #   #   #  #  #      #    # \",\n",
    "\" #     # ####   #    #  ####  ###### \",\n",
    "\" ####### #  #   ######      # #    # \",\n",
    "\" #     # #   #  #    # #    # #    # \",\n",
    "\" #     # #    # #    #  ####  #    # \"\n",
    "]\n",
    "\n",
    "for i in Pattern:\n",
    "    print(i)"
   ]
  }
 ],
 "metadata": {
  "kernelspec": {
   "display_name": "Python 3",
   "language": "python",
   "name": "python3"
  },
  "language_info": {
   "codemirror_mode": {
    "name": "ipython",
    "version": 3
   },
   "file_extension": ".py",
   "mimetype": "text/x-python",
   "name": "python",
   "nbconvert_exporter": "python",
   "pygments_lexer": "ipython3",
   "version": "3.13.1"
  }
 },
 "nbformat": 4,
 "nbformat_minor": 2
}
