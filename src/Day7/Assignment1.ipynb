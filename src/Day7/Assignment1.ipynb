{
 "cells": [
  {
   "cell_type": "code",
   "execution_count": null,
   "metadata": {},
   "outputs": [
    {
     "name": "stdout",
     "output_type": "stream",
     "text": [
      "Highest temparature is Hi: 31°\n",
      "Todaty is WED, JAN 29\n",
      "Lowest temprature Lo: 18°\n"
     ]
    }
   ],
   "source": [
    "from selenium import webdriver\n",
    "from selenium.webdriver.chrome.service import Service\n",
    "from selenium.webdriver.chrome.options import Options\n",
    "from webdriver_manager.chrome import ChromeDriverManager\n",
    "from bs4 import BeautifulSoup\n",
    "import time\n",
    "from selenium.webdriver.common.by import By\n",
    "import threading\n",
    "\n",
    " # Run in headless mode (no browser UI)\n",
    "\n",
    "\n",
    "# # Initialize WebDriver\n",
    "# service = Service(ChromeDriverManager().install())\n",
    "driver = webdriver.Chrome()\n",
    "\n",
    "# URL to scrape\n",
    "url = \"https://www.accuweather.com/en/in/mumbai/204842/weather-forecast/204842\"\n",
    "\n",
    "# Open the URL\n",
    "driver.get(url)\n",
    "\n",
    "def find_day(lock,xpath1):\n",
    "    driver.get(url)\n",
    "    driver.implicitly_wait(10)\n",
    "    data=driver.find_element(By.XPATH ,xpath1)\n",
    "    print(f\"Todaty is {data.text}\")\n",
    "\n",
    "def find_temp_max(lock,xpath2):\n",
    "    driver.get(url)\n",
    "    driver.implicitly_wait(10)\n",
    "    data=driver.find_element(By.XPATH ,xpath2)\n",
    "    print(f\"Highest temparature is {data.text}\")\n",
    "\n",
    "def find_temp_min(lock,xpath3):\n",
    "    driver.get(url)\n",
    "    driver.implicitly_wait(10)\n",
    "    data=driver.find_element(By.XPATH ,xpath3)\n",
    "    print(f\"Lowest temprature {data.text}\")\n",
    "\n",
    "\n",
    "lock=threading.Lock()\n",
    "\n",
    "xpathone=\"/html/body/div/div[7]/div[1]/div[1]/div[1]/a/div[1]/p\"\n",
    "xpath2=\"/html/body/div/div[7]/div[1]/div[1]/div[1]/a/div[2]/div[1]/p/b\"\n",
    "xpath3=\"/html/body/div/div[7]/div[1]/div[1]/div[1]/a/div[2]/div[2]/p/b\"\n",
    "\n",
    "th1=threading.Thread(target=find_day,args=(lock,xpathone))\n",
    "th2=threading.Thread(target=find_temp_max,args=(lock,xpath2))\n",
    "th3=threading.Thread(target=find_temp_min,args=(lock,xpath3))\n",
    "\n",
    "th1.start()\n",
    "th2.start()\n",
    "th3.start()\n",
    "\n",
    "th1.join()\n",
    "th2.join()\n",
    "th3.join()\n",
    "\n",
    "driver.quit()\n"
   ]
  },
  {
   "cell_type": "markdown",
   "metadata": {},
   "source": [
    "2\n"
   ]
  },
  {
   "cell_type": "code",
   "execution_count": null,
   "metadata": {},
   "outputs": [],
   "source": [
    "def place_order()"
   ]
  }
 ],
 "metadata": {
  "kernelspec": {
   "display_name": "Python 3",
   "language": "python",
   "name": "python3"
  },
  "language_info": {
   "codemirror_mode": {
    "name": "ipython",
    "version": 3
   },
   "file_extension": ".py",
   "mimetype": "text/x-python",
   "name": "python",
   "nbconvert_exporter": "python",
   "pygments_lexer": "ipython3",
   "version": "3.13.1"
  }
 },
 "nbformat": 4,
 "nbformat_minor": 2
}
