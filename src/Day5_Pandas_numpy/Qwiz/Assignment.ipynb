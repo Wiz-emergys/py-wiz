{
 "cells": [
  {
   "cell_type": "markdown",
   "metadata": {},
   "source": [
    "### QUIZ\\Assignemnt on NumPy,Pandas,Vectorization and Regex"
   ]
  },
  {
   "cell_type": "markdown",
   "metadata": {},
   "source": [
    "##### Write a Python script to generate million random numbers and add them all together with and witht use Of numpy and Check how long it to execute in both scenarios"
   ]
  },
  {
   "cell_type": "code",
   "execution_count": null,
   "metadata": {},
   "outputs": [
    {
     "name": "stderr",
     "output_type": "stream",
     "text": [
      "The filename, directory name, or volume label syntax is incorrect.\n"
     ]
    }
   ],
   "source": [
    "\"If you encounter any error while running this script, run the below command in your terminal or visit thr below link\"\n",
    "# https://stackoverflow.com/questions/69785084/running-cells-with-python-3-10-requires-ipykernel-installed\n",
    "# ! r\"c:/Users/NikhilJain/AppData/Local/Microsoft/WindowsApps/python3.13.exe -m pip install ipykernel -U --user --force-reinstall\""
   ]
  },
  {
   "cell_type": "code",
   "execution_count": null,
   "metadata": {},
   "outputs": [],
   "source": [
    "!python --version\n",
    "!pip show numpy\n",
    "\n"
   ]
  },
  {
   "cell_type": "code",
   "execution_count": 10,
   "metadata": {},
   "outputs": [
    {
     "name": "stdout",
     "output_type": "stream",
     "text": [
      "c:\\Users\\NikhilJain\\AppData\\Local\\Programs\\Python\\Python313\\python.exe\n",
      "C:\\Users\\NikhilJain\\AppData\\Local\\Microsoft\\WindowsApps\\python.exe\n"
     ]
    }
   ],
   "source": [
    "!where python"
   ]
  },
  {
   "cell_type": "code",
   "execution_count": 1,
   "metadata": {},
   "outputs": [
    {
     "name": "stderr",
     "output_type": "stream",
     "text": [
      "WARNING: Package(s) not found: numpy\n"
     ]
    }
   ],
   "source": [
    "! python -m pip show numpy\n"
   ]
  },
  {
   "cell_type": "code",
   "execution_count": 3,
   "metadata": {},
   "outputs": [
    {
     "name": "stderr",
     "output_type": "stream",
     "text": [
      "WARNING: Skipping numpy as it is not installed.\n"
     ]
    },
    {
     "name": "stdout",
     "output_type": "stream",
     "text": [
      "Collecting numpy\n",
      "  Downloading numpy-2.2.2-cp313-cp313-win_amd64.whl.metadata (60 kB)\n",
      "Downloading numpy-2.2.2-cp313-cp313-win_amd64.whl (12.6 MB)\n",
      "   ---------------------------------------- 0.0/12.6 MB ? eta -:--:--\n",
      "   ----- ---------------------------------- 1.8/12.6 MB 9.1 MB/s eta 0:00:02\n",
      "   --------- ------------------------------ 2.9/12.6 MB 7.1 MB/s eta 0:00:02\n",
      "   ----------- ---------------------------- 3.7/12.6 MB 5.8 MB/s eta 0:00:02\n",
      "   ------------ --------------------------- 3.9/12.6 MB 4.9 MB/s eta 0:00:02\n",
      "   ------------- -------------------------- 4.2/12.6 MB 4.2 MB/s eta 0:00:02\n",
      "   --------------- ------------------------ 5.0/12.6 MB 3.8 MB/s eta 0:00:02\n",
      "   ------------------ --------------------- 5.8/12.6 MB 3.9 MB/s eta 0:00:02\n",
      "   ---------------------- ----------------- 7.1/12.6 MB 4.1 MB/s eta 0:00:02\n",
      "   -------------------------- ------------- 8.4/12.6 MB 4.3 MB/s eta 0:00:01\n",
      "   ------------------------------- -------- 10.0/12.6 MB 4.7 MB/s eta 0:00:01\n",
      "   ----------------------------------- ---- 11.3/12.6 MB 4.9 MB/s eta 0:00:01\n",
      "   ---------------------------------------- 12.6/12.6 MB 4.9 MB/s eta 0:00:00\n",
      "Installing collected packages: numpy\n",
      "Successfully installed numpy-2.2.2\n"
     ]
    },
    {
     "name": "stderr",
     "output_type": "stream",
     "text": [
      "  WARNING: The scripts f2py.exe and numpy-config.exe are installed in 'c:\\Users\\NikhilJain\\AppData\\Local\\Programs\\Python\\Python313\\Scripts' which is not on PATH.\n",
      "  Consider adding this directory to PATH or, if you prefer to suppress this warning, use --no-warn-script-location.\n"
     ]
    }
   ],
   "source": [
    "!python -m pip uninstall numpy\n",
    "!python -m pip install numpy\n"
   ]
  },
  {
   "cell_type": "code",
   "execution_count": 5,
   "metadata": {},
   "outputs": [
    {
     "name": "stderr",
     "output_type": "stream",
     "text": [
      "WARNING: Skipping pandas as it is not installed.\n"
     ]
    },
    {
     "name": "stdout",
     "output_type": "stream",
     "text": [
      "Collecting pandas\n",
      "  Downloading pandas-2.2.3-cp313-cp313-win_amd64.whl.metadata (19 kB)\n",
      "Requirement already satisfied: numpy>=1.26.0 in c:\\users\\nikhiljain\\appdata\\local\\programs\\python\\python313\\lib\\site-packages (from pandas) (2.2.2)\n",
      "Requirement already satisfied: python-dateutil>=2.8.2 in c:\\users\\nikhiljain\\appdata\\roaming\\python\\python313\\site-packages (from pandas) (2.9.0.post0)\n",
      "Collecting pytz>=2020.1 (from pandas)\n",
      "  Downloading pytz-2024.2-py2.py3-none-any.whl.metadata (22 kB)\n",
      "Collecting tzdata>=2022.7 (from pandas)\n",
      "  Downloading tzdata-2025.1-py2.py3-none-any.whl.metadata (1.4 kB)\n",
      "Requirement already satisfied: six>=1.5 in c:\\users\\nikhiljain\\appdata\\roaming\\python\\python313\\site-packages (from python-dateutil>=2.8.2->pandas) (1.17.0)\n",
      "Downloading pandas-2.2.3-cp313-cp313-win_amd64.whl (11.5 MB)\n",
      "   ---------------------------------------- 0.0/11.5 MB ? eta -:--:--\n",
      "   ------ --------------------------------- 1.8/11.5 MB 9.1 MB/s eta 0:00:02\n",
      "   ---------- ----------------------------- 3.1/11.5 MB 7.3 MB/s eta 0:00:02\n",
      "   -------------- ------------------------- 4.2/11.5 MB 6.9 MB/s eta 0:00:02\n",
      "   ------------------- -------------------- 5.5/11.5 MB 6.5 MB/s eta 0:00:01\n",
      "   ----------------------- ---------------- 6.8/11.5 MB 6.6 MB/s eta 0:00:01\n",
      "   ----------------------------- ---------- 8.4/11.5 MB 6.6 MB/s eta 0:00:01\n",
      "   ---------------------------------- ----- 10.0/11.5 MB 6.7 MB/s eta 0:00:01\n",
      "   ---------------------------------------  11.3/11.5 MB 6.7 MB/s eta 0:00:01\n",
      "   ---------------------------------------- 11.5/11.5 MB 6.5 MB/s eta 0:00:00\n",
      "Downloading pytz-2024.2-py2.py3-none-any.whl (508 kB)\n",
      "Downloading tzdata-2025.1-py2.py3-none-any.whl (346 kB)\n",
      "Installing collected packages: pytz, tzdata, pandas\n",
      "Successfully installed pandas-2.2.3 pytz-2024.2 tzdata-2025.1\n"
     ]
    }
   ],
   "source": [
    "!python -m pip uninstall pandas\n",
    "!python -m pip install pandas"
   ]
  },
  {
   "cell_type": "code",
   "execution_count": 11,
   "metadata": {},
   "outputs": [
    {
     "name": "stdout",
     "output_type": "stream",
     "text": [
      "The Sum of 1000000numbers  together is500265.6400476987\n",
      "Time taken to add numbers with numpy: 0.01601719856262207\n",
      "\n",
      "\n",
      "The Sum of 1000000 numbers together is4999560968\n",
      "Time taken to add numbers without numpy: 3.293177604675293\n"
     ]
    }
   ],
   "source": [
    "import numpy as np\n",
    "import pandas as pd\n",
    "import time\n",
    "\n",
    "\n",
    "def add_numbers_with_numpy(numbers):\n",
    "    \"\"\"This function will generate random numbers and add them together using numpy\n",
    "    Args:\n",
    "        numbers (int): Number of random numbers to generate\n",
    "        Returns:sum of random numbers\n",
    "    \"\"\"\n",
    "    numbers = np.random.rand(numbers)\n",
    "    sum_numbers = np.sum(numbers)\n",
    "    return sum_numbers\n",
    "\n",
    "def add_numbers_without_numpy(numbers):\n",
    "    \"\"\" This function will generate random numbers and add them together without using numpy\n",
    "    Args:\n",
    "        numbers (int): Number of random numbers to generate\n",
    "        Returns:sum of random numbers\n",
    "    \"\"\"\n",
    "    random_number=[np.random.randint(0,10000) for i in range(numbers)]\n",
    "    sum_numbers = 0\n",
    "    for number in random_number:\n",
    "        sum_numbers += number\n",
    "    return sum_numbers\n",
    "\n",
    "\n",
    "\n",
    "numbers = 1000000\n",
    "start_time = time.time()\n",
    "print(f\"The Sum of {numbers}numbers  together is{ add_numbers_with_numpy(numbers)}\")\n",
    "print(f\"Time taken to add numbers with numpy: {time.time() - start_time}\\n\")\n",
    "\n",
    "start_time = time.time()\n",
    "print(f\"\\nThe Sum of {numbers} numbers together is{ add_numbers_without_numpy(numbers)}\")\n",
    "print(f\"Time taken to add numbers without numpy: {time.time() - start_time}\")\n",
    "\n",
    "\n"
   ]
  },
  {
   "cell_type": "markdown",
   "metadata": {},
   "source": [
    "##### Q2 Write a Python script that generate matrix and transpose it."
   ]
  },
  {
   "cell_type": "code",
   "execution_count": null,
   "metadata": {},
   "outputs": [],
   "source": [
    "mat=np.random.randint(0, 2, size=(10000, 10000))\n",
    "mat"
   ]
  },
  {
   "cell_type": "code",
   "execution_count": 16,
   "metadata": {},
   "outputs": [
    {
     "data": {
      "text/plain": [
       "(10000, 10000)"
      ]
     },
     "execution_count": 16,
     "metadata": {},
     "output_type": "execute_result"
    }
   ],
   "source": [
    "mat.shape"
   ]
  },
  {
   "cell_type": "code",
   "execution_count": 17,
   "metadata": {},
   "outputs": [
    {
     "data": {
      "text/plain": [
       "array([[1, 0, 1, ..., 0, 0, 0],\n",
       "       [1, 0, 1, ..., 0, 1, 0],\n",
       "       [1, 1, 0, ..., 0, 0, 1],\n",
       "       ...,\n",
       "       [0, 1, 1, ..., 1, 0, 0],\n",
       "       [0, 0, 1, ..., 1, 1, 0],\n",
       "       [0, 0, 1, ..., 0, 0, 1]], shape=(10000, 10000), dtype=int32)"
      ]
     },
     "execution_count": 17,
     "metadata": {},
     "output_type": "execute_result"
    }
   ],
   "source": [
    "mat.T"
   ]
  },
  {
   "cell_type": "markdown",
   "metadata": {},
   "source": [
    "##### Load dataset \"Online_Retair provided into pandas dataframe.Process aYn missing values.\n",
    "Create descriptive statistics.lUse of numpyl\n",
    "time series Of price Filter based ondate.\n",
    "Plot time series chart of price where quantity less than and in year 2011.\n",
    "Calculate total amount of price in pivot tabbe based on product descrotion.\n",
    "Which Country has highest price and which prODUCT?\n",
    "top 10 products With minimum price and in year 2010"
   ]
  },
  {
   "cell_type": "code",
   "execution_count": 16,
   "metadata": {},
   "outputs": [
    {
     "data": {
      "text/html": [
       "<div>\n",
       "<style scoped>\n",
       "    .dataframe tbody tr th:only-of-type {\n",
       "        vertical-align: middle;\n",
       "    }\n",
       "\n",
       "    .dataframe tbody tr th {\n",
       "        vertical-align: top;\n",
       "    }\n",
       "\n",
       "    .dataframe thead th {\n",
       "        text-align: right;\n",
       "    }\n",
       "</style>\n",
       "<table border=\"1\" class=\"dataframe\">\n",
       "  <thead>\n",
       "    <tr style=\"text-align: right;\">\n",
       "      <th></th>\n",
       "      <th>Invoice</th>\n",
       "      <th>StockCode</th>\n",
       "      <th>Description</th>\n",
       "      <th>Quantity</th>\n",
       "      <th>InvoiceDate</th>\n",
       "      <th>Price</th>\n",
       "      <th>Customer ID</th>\n",
       "      <th>Country</th>\n",
       "    </tr>\n",
       "  </thead>\n",
       "  <tbody>\n",
       "    <tr>\n",
       "      <th>0</th>\n",
       "      <td>489434</td>\n",
       "      <td>85048</td>\n",
       "      <td>15CM CHRISTMAS GLASS BALL 20 LIGHTS</td>\n",
       "      <td>12</td>\n",
       "      <td>01-12-2009 07:45</td>\n",
       "      <td>6.95</td>\n",
       "      <td>13085.0</td>\n",
       "      <td>United Kingdom</td>\n",
       "    </tr>\n",
       "    <tr>\n",
       "      <th>1</th>\n",
       "      <td>489434</td>\n",
       "      <td>79323P</td>\n",
       "      <td>PINK CHERRY LIGHTS</td>\n",
       "      <td>12</td>\n",
       "      <td>01-12-2009 07:45</td>\n",
       "      <td>6.75</td>\n",
       "      <td>13085.0</td>\n",
       "      <td>United Kingdom</td>\n",
       "    </tr>\n",
       "    <tr>\n",
       "      <th>2</th>\n",
       "      <td>489434</td>\n",
       "      <td>79323W</td>\n",
       "      <td>WHITE CHERRY LIGHTS</td>\n",
       "      <td>12</td>\n",
       "      <td>01-12-2009 07:45</td>\n",
       "      <td>6.75</td>\n",
       "      <td>13085.0</td>\n",
       "      <td>United Kingdom</td>\n",
       "    </tr>\n",
       "    <tr>\n",
       "      <th>3</th>\n",
       "      <td>489434</td>\n",
       "      <td>22041</td>\n",
       "      <td>RECORD FRAME 7\" SINGLE SIZE</td>\n",
       "      <td>48</td>\n",
       "      <td>01-12-2009 07:45</td>\n",
       "      <td>2.10</td>\n",
       "      <td>13085.0</td>\n",
       "      <td>United Kingdom</td>\n",
       "    </tr>\n",
       "    <tr>\n",
       "      <th>4</th>\n",
       "      <td>489434</td>\n",
       "      <td>21232</td>\n",
       "      <td>STRAWBERRY CERAMIC TRINKET BOX</td>\n",
       "      <td>24</td>\n",
       "      <td>01-12-2009 07:45</td>\n",
       "      <td>1.25</td>\n",
       "      <td>13085.0</td>\n",
       "      <td>United Kingdom</td>\n",
       "    </tr>\n",
       "    <tr>\n",
       "      <th>...</th>\n",
       "      <td>...</td>\n",
       "      <td>...</td>\n",
       "      <td>...</td>\n",
       "      <td>...</td>\n",
       "      <td>...</td>\n",
       "      <td>...</td>\n",
       "      <td>...</td>\n",
       "      <td>...</td>\n",
       "    </tr>\n",
       "    <tr>\n",
       "      <th>437880</th>\n",
       "      <td>C553031</td>\n",
       "      <td>22300</td>\n",
       "      <td>COFFEE MUG DOG + BALL DESIGN</td>\n",
       "      <td>-1</td>\n",
       "      <td>12-05-2011 19:43</td>\n",
       "      <td>2.55</td>\n",
       "      <td>13908.0</td>\n",
       "      <td>United Kingdom</td>\n",
       "    </tr>\n",
       "    <tr>\n",
       "      <th>437881</th>\n",
       "      <td>C553031</td>\n",
       "      <td>21533</td>\n",
       "      <td>RETROSPOT LARGE MILK JUG</td>\n",
       "      <td>-3</td>\n",
       "      <td>12-05-2011 19:43</td>\n",
       "      <td>4.95</td>\n",
       "      <td>13908.0</td>\n",
       "      <td>United Kingdom</td>\n",
       "    </tr>\n",
       "    <tr>\n",
       "      <th>437882</th>\n",
       "      <td>C553031</td>\n",
       "      <td>21240</td>\n",
       "      <td>BLUE POLKADOT CUP</td>\n",
       "      <td>-3</td>\n",
       "      <td>12-05-2011 19:43</td>\n",
       "      <td>0.85</td>\n",
       "      <td>13908.0</td>\n",
       "      <td>United Kingdom</td>\n",
       "    </tr>\n",
       "    <tr>\n",
       "      <th>437883</th>\n",
       "      <td>C553032</td>\n",
       "      <td>22891</td>\n",
       "      <td>TEA FOR ONE POLKADOT</td>\n",
       "      <td>-3</td>\n",
       "      <td>12-05-2011 19:44</td>\n",
       "      <td>4.25</td>\n",
       "      <td>13320.0</td>\n",
       "      <td>United Kingdom</td>\n",
       "    </tr>\n",
       "    <tr>\n",
       "      <th>437884</th>\n",
       "      <td>C553032</td>\n",
       "      <td>22631</td>\n",
       "      <td>CIRCUS PARADE LUNCH BOX</td>\n",
       "      <td>-3</td>\n",
       "      <td>12-05-2011 19:44</td>\n",
       "      <td>1.95</td>\n",
       "      <td>13320.0</td>\n",
       "      <td>United Kingdom</td>\n",
       "    </tr>\n",
       "  </tbody>\n",
       "</table>\n",
       "<p>437885 rows × 8 columns</p>\n",
       "</div>"
      ],
      "text/plain": [
       "        Invoice StockCode                          Description  Quantity  \\\n",
       "0        489434     85048  15CM CHRISTMAS GLASS BALL 20 LIGHTS        12   \n",
       "1        489434    79323P                   PINK CHERRY LIGHTS        12   \n",
       "2        489434    79323W                  WHITE CHERRY LIGHTS        12   \n",
       "3        489434     22041         RECORD FRAME 7\" SINGLE SIZE         48   \n",
       "4        489434     21232       STRAWBERRY CERAMIC TRINKET BOX        24   \n",
       "...         ...       ...                                  ...       ...   \n",
       "437880  C553031     22300         COFFEE MUG DOG + BALL DESIGN        -1   \n",
       "437881  C553031     21533             RETROSPOT LARGE MILK JUG        -3   \n",
       "437882  C553031     21240                    BLUE POLKADOT CUP        -3   \n",
       "437883  C553032     22891                 TEA FOR ONE POLKADOT        -3   \n",
       "437884  C553032     22631             CIRCUS PARADE LUNCH BOX         -3   \n",
       "\n",
       "             InvoiceDate  Price  Customer ID         Country  \n",
       "0       01-12-2009 07:45   6.95      13085.0  United Kingdom  \n",
       "1       01-12-2009 07:45   6.75      13085.0  United Kingdom  \n",
       "2       01-12-2009 07:45   6.75      13085.0  United Kingdom  \n",
       "3       01-12-2009 07:45   2.10      13085.0  United Kingdom  \n",
       "4       01-12-2009 07:45   1.25      13085.0  United Kingdom  \n",
       "...                  ...    ...          ...             ...  \n",
       "437880  12-05-2011 19:43   2.55      13908.0  United Kingdom  \n",
       "437881  12-05-2011 19:43   4.95      13908.0  United Kingdom  \n",
       "437882  12-05-2011 19:43   0.85      13908.0  United Kingdom  \n",
       "437883  12-05-2011 19:44   4.25      13320.0  United Kingdom  \n",
       "437884  12-05-2011 19:44   1.95      13320.0  United Kingdom  \n",
       "\n",
       "[437885 rows x 8 columns]"
      ]
     },
     "execution_count": 16,
     "metadata": {},
     "output_type": "execute_result"
    }
   ],
   "source": [
    "# Load the dataset\n",
    "import numpy as np\n",
    "import pandas as pd\n",
    "df = pd.read_csv(r\"C:\\Users\\NikhilJain\\py-wiz\\src\\Day5_Pandas_numpy\\online_retail.csv\")\n",
    "df"
   ]
  },
  {
   "cell_type": "code",
   "execution_count": 3,
   "metadata": {},
   "outputs": [
    {
     "data": {
      "text/html": [
       "<div>\n",
       "<style scoped>\n",
       "    .dataframe tbody tr th:only-of-type {\n",
       "        vertical-align: middle;\n",
       "    }\n",
       "\n",
       "    .dataframe tbody tr th {\n",
       "        vertical-align: top;\n",
       "    }\n",
       "\n",
       "    .dataframe thead th {\n",
       "        text-align: right;\n",
       "    }\n",
       "</style>\n",
       "<table border=\"1\" class=\"dataframe\">\n",
       "  <thead>\n",
       "    <tr style=\"text-align: right;\">\n",
       "      <th></th>\n",
       "      <th>Quantity</th>\n",
       "      <th>Price</th>\n",
       "      <th>Customer ID</th>\n",
       "    </tr>\n",
       "  </thead>\n",
       "  <tbody>\n",
       "    <tr>\n",
       "      <th>count</th>\n",
       "      <td>437885.000000</td>\n",
       "      <td>437885.000000</td>\n",
       "      <td>327110.000000</td>\n",
       "    </tr>\n",
       "    <tr>\n",
       "      <th>mean</th>\n",
       "      <td>10.063069</td>\n",
       "      <td>4.955867</td>\n",
       "      <td>15309.727813</td>\n",
       "    </tr>\n",
       "    <tr>\n",
       "      <th>std</th>\n",
       "      <td>184.048278</td>\n",
       "      <td>128.396016</td>\n",
       "      <td>1697.582041</td>\n",
       "    </tr>\n",
       "    <tr>\n",
       "      <th>min</th>\n",
       "      <td>-74215.000000</td>\n",
       "      <td>-53594.360000</td>\n",
       "      <td>12346.000000</td>\n",
       "    </tr>\n",
       "    <tr>\n",
       "      <th>25%</th>\n",
       "      <td>1.000000</td>\n",
       "      <td>1.250000</td>\n",
       "      <td>13901.000000</td>\n",
       "    </tr>\n",
       "    <tr>\n",
       "      <th>50%</th>\n",
       "      <td>3.000000</td>\n",
       "      <td>2.100000</td>\n",
       "      <td>15215.000000</td>\n",
       "    </tr>\n",
       "    <tr>\n",
       "      <th>75%</th>\n",
       "      <td>10.000000</td>\n",
       "      <td>4.250000</td>\n",
       "      <td>16801.000000</td>\n",
       "    </tr>\n",
       "    <tr>\n",
       "      <th>max</th>\n",
       "      <td>74215.000000</td>\n",
       "      <td>25111.090000</td>\n",
       "      <td>18287.000000</td>\n",
       "    </tr>\n",
       "  </tbody>\n",
       "</table>\n",
       "</div>"
      ],
      "text/plain": [
       "            Quantity          Price    Customer ID\n",
       "count  437885.000000  437885.000000  327110.000000\n",
       "mean       10.063069       4.955867   15309.727813\n",
       "std       184.048278     128.396016    1697.582041\n",
       "min    -74215.000000  -53594.360000   12346.000000\n",
       "25%         1.000000       1.250000   13901.000000\n",
       "50%         3.000000       2.100000   15215.000000\n",
       "75%        10.000000       4.250000   16801.000000\n",
       "max     74215.000000   25111.090000   18287.000000"
      ]
     },
     "execution_count": 3,
     "metadata": {},
     "output_type": "execute_result"
    }
   ],
   "source": [
    "df.describe()"
   ]
  },
  {
   "cell_type": "code",
   "execution_count": 4,
   "metadata": {},
   "outputs": [
    {
     "name": "stdout",
     "output_type": "stream",
     "text": [
      "<class 'pandas.core.frame.DataFrame'>\n",
      "RangeIndex: 437885 entries, 0 to 437884\n",
      "Data columns (total 8 columns):\n",
      " #   Column       Non-Null Count   Dtype  \n",
      "---  ------       --------------   -----  \n",
      " 0   Invoice      437885 non-null  object \n",
      " 1   StockCode    437885 non-null  object \n",
      " 2   Description  435162 non-null  object \n",
      " 3   Quantity     437885 non-null  int64  \n",
      " 4   InvoiceDate  437885 non-null  object \n",
      " 5   Price        437885 non-null  float64\n",
      " 6   Customer ID  327110 non-null  float64\n",
      " 7   Country      437885 non-null  object \n",
      "dtypes: float64(2), int64(1), object(5)\n",
      "memory usage: 26.7+ MB\n"
     ]
    }
   ],
   "source": [
    "df.info()"
   ]
  },
  {
   "cell_type": "code",
   "execution_count": 5,
   "metadata": {},
   "outputs": [
    {
     "data": {
      "text/plain": [
       "Invoice             0\n",
       "StockCode           0\n",
       "Description      2723\n",
       "Quantity            0\n",
       "InvoiceDate         0\n",
       "Price               0\n",
       "Customer ID    110775\n",
       "Country             0\n",
       "dtype: int64"
      ]
     },
     "execution_count": 5,
     "metadata": {},
     "output_type": "execute_result"
    }
   ],
   "source": [
    "# Check for missing values\n",
    "df.isnull().sum()"
   ]
  },
  {
   "cell_type": "code",
   "execution_count": 6,
   "metadata": {},
   "outputs": [
    {
     "data": {
      "text/html": [
       "<div>\n",
       "<style scoped>\n",
       "    .dataframe tbody tr th:only-of-type {\n",
       "        vertical-align: middle;\n",
       "    }\n",
       "\n",
       "    .dataframe tbody tr th {\n",
       "        vertical-align: top;\n",
       "    }\n",
       "\n",
       "    .dataframe thead th {\n",
       "        text-align: right;\n",
       "    }\n",
       "</style>\n",
       "<table border=\"1\" class=\"dataframe\">\n",
       "  <thead>\n",
       "    <tr style=\"text-align: right;\">\n",
       "      <th></th>\n",
       "      <th>Invoice</th>\n",
       "      <th>StockCode</th>\n",
       "      <th>Description</th>\n",
       "      <th>Quantity</th>\n",
       "      <th>InvoiceDate</th>\n",
       "      <th>Price</th>\n",
       "      <th>Customer ID</th>\n",
       "      <th>Country</th>\n",
       "    </tr>\n",
       "  </thead>\n",
       "  <tbody>\n",
       "    <tr>\n",
       "      <th>0</th>\n",
       "      <td>489434</td>\n",
       "      <td>85048</td>\n",
       "      <td>15CM CHRISTMAS GLASS BALL 20 LIGHTS</td>\n",
       "      <td>12</td>\n",
       "      <td>01-12-2009 07:45</td>\n",
       "      <td>6.95</td>\n",
       "      <td>13085.0</td>\n",
       "      <td>United Kingdom</td>\n",
       "    </tr>\n",
       "    <tr>\n",
       "      <th>1</th>\n",
       "      <td>489434</td>\n",
       "      <td>79323P</td>\n",
       "      <td>PINK CHERRY LIGHTS</td>\n",
       "      <td>12</td>\n",
       "      <td>01-12-2009 07:45</td>\n",
       "      <td>6.75</td>\n",
       "      <td>13085.0</td>\n",
       "      <td>United Kingdom</td>\n",
       "    </tr>\n",
       "    <tr>\n",
       "      <th>2</th>\n",
       "      <td>489434</td>\n",
       "      <td>79323W</td>\n",
       "      <td>WHITE CHERRY LIGHTS</td>\n",
       "      <td>12</td>\n",
       "      <td>01-12-2009 07:45</td>\n",
       "      <td>6.75</td>\n",
       "      <td>13085.0</td>\n",
       "      <td>United Kingdom</td>\n",
       "    </tr>\n",
       "    <tr>\n",
       "      <th>3</th>\n",
       "      <td>489434</td>\n",
       "      <td>22041</td>\n",
       "      <td>RECORD FRAME 7\" SINGLE SIZE</td>\n",
       "      <td>48</td>\n",
       "      <td>01-12-2009 07:45</td>\n",
       "      <td>2.10</td>\n",
       "      <td>13085.0</td>\n",
       "      <td>United Kingdom</td>\n",
       "    </tr>\n",
       "    <tr>\n",
       "      <th>4</th>\n",
       "      <td>489434</td>\n",
       "      <td>21232</td>\n",
       "      <td>STRAWBERRY CERAMIC TRINKET BOX</td>\n",
       "      <td>24</td>\n",
       "      <td>01-12-2009 07:45</td>\n",
       "      <td>1.25</td>\n",
       "      <td>13085.0</td>\n",
       "      <td>United Kingdom</td>\n",
       "    </tr>\n",
       "    <tr>\n",
       "      <th>...</th>\n",
       "      <td>...</td>\n",
       "      <td>...</td>\n",
       "      <td>...</td>\n",
       "      <td>...</td>\n",
       "      <td>...</td>\n",
       "      <td>...</td>\n",
       "      <td>...</td>\n",
       "      <td>...</td>\n",
       "    </tr>\n",
       "    <tr>\n",
       "      <th>437880</th>\n",
       "      <td>C553031</td>\n",
       "      <td>22300</td>\n",
       "      <td>COFFEE MUG DOG + BALL DESIGN</td>\n",
       "      <td>-1</td>\n",
       "      <td>12-05-2011 19:43</td>\n",
       "      <td>2.55</td>\n",
       "      <td>13908.0</td>\n",
       "      <td>United Kingdom</td>\n",
       "    </tr>\n",
       "    <tr>\n",
       "      <th>437881</th>\n",
       "      <td>C553031</td>\n",
       "      <td>21533</td>\n",
       "      <td>RETROSPOT LARGE MILK JUG</td>\n",
       "      <td>-3</td>\n",
       "      <td>12-05-2011 19:43</td>\n",
       "      <td>4.95</td>\n",
       "      <td>13908.0</td>\n",
       "      <td>United Kingdom</td>\n",
       "    </tr>\n",
       "    <tr>\n",
       "      <th>437882</th>\n",
       "      <td>C553031</td>\n",
       "      <td>21240</td>\n",
       "      <td>BLUE POLKADOT CUP</td>\n",
       "      <td>-3</td>\n",
       "      <td>12-05-2011 19:43</td>\n",
       "      <td>0.85</td>\n",
       "      <td>13908.0</td>\n",
       "      <td>United Kingdom</td>\n",
       "    </tr>\n",
       "    <tr>\n",
       "      <th>437883</th>\n",
       "      <td>C553032</td>\n",
       "      <td>22891</td>\n",
       "      <td>TEA FOR ONE POLKADOT</td>\n",
       "      <td>-3</td>\n",
       "      <td>12-05-2011 19:44</td>\n",
       "      <td>4.25</td>\n",
       "      <td>13320.0</td>\n",
       "      <td>United Kingdom</td>\n",
       "    </tr>\n",
       "    <tr>\n",
       "      <th>437884</th>\n",
       "      <td>C553032</td>\n",
       "      <td>22631</td>\n",
       "      <td>CIRCUS PARADE LUNCH BOX</td>\n",
       "      <td>-3</td>\n",
       "      <td>12-05-2011 19:44</td>\n",
       "      <td>1.95</td>\n",
       "      <td>13320.0</td>\n",
       "      <td>United Kingdom</td>\n",
       "    </tr>\n",
       "  </tbody>\n",
       "</table>\n",
       "<p>327110 rows × 8 columns</p>\n",
       "</div>"
      ],
      "text/plain": [
       "        Invoice StockCode                          Description  Quantity  \\\n",
       "0        489434     85048  15CM CHRISTMAS GLASS BALL 20 LIGHTS        12   \n",
       "1        489434    79323P                   PINK CHERRY LIGHTS        12   \n",
       "2        489434    79323W                  WHITE CHERRY LIGHTS        12   \n",
       "3        489434     22041         RECORD FRAME 7\" SINGLE SIZE         48   \n",
       "4        489434     21232       STRAWBERRY CERAMIC TRINKET BOX        24   \n",
       "...         ...       ...                                  ...       ...   \n",
       "437880  C553031     22300         COFFEE MUG DOG + BALL DESIGN        -1   \n",
       "437881  C553031     21533             RETROSPOT LARGE MILK JUG        -3   \n",
       "437882  C553031     21240                    BLUE POLKADOT CUP        -3   \n",
       "437883  C553032     22891                 TEA FOR ONE POLKADOT        -3   \n",
       "437884  C553032     22631             CIRCUS PARADE LUNCH BOX         -3   \n",
       "\n",
       "             InvoiceDate  Price  Customer ID         Country  \n",
       "0       01-12-2009 07:45   6.95      13085.0  United Kingdom  \n",
       "1       01-12-2009 07:45   6.75      13085.0  United Kingdom  \n",
       "2       01-12-2009 07:45   6.75      13085.0  United Kingdom  \n",
       "3       01-12-2009 07:45   2.10      13085.0  United Kingdom  \n",
       "4       01-12-2009 07:45   1.25      13085.0  United Kingdom  \n",
       "...                  ...    ...          ...             ...  \n",
       "437880  12-05-2011 19:43   2.55      13908.0  United Kingdom  \n",
       "437881  12-05-2011 19:43   4.95      13908.0  United Kingdom  \n",
       "437882  12-05-2011 19:43   0.85      13908.0  United Kingdom  \n",
       "437883  12-05-2011 19:44   4.25      13320.0  United Kingdom  \n",
       "437884  12-05-2011 19:44   1.95      13320.0  United Kingdom  \n",
       "\n",
       "[327110 rows x 8 columns]"
      ]
     },
     "execution_count": 6,
     "metadata": {},
     "output_type": "execute_result"
    }
   ],
   "source": [
    "df.dropna(inplace=True)\n",
    "df"
   ]
  },
  {
   "cell_type": "code",
   "execution_count": 7,
   "metadata": {},
   "outputs": [
    {
     "name": "stdout",
     "output_type": "stream",
     "text": [
      "<class 'pandas.core.frame.DataFrame'>\n",
      "Index: 327110 entries, 0 to 437884\n",
      "Data columns (total 8 columns):\n",
      " #   Column       Non-Null Count   Dtype  \n",
      "---  ------       --------------   -----  \n",
      " 0   Invoice      327110 non-null  object \n",
      " 1   StockCode    327110 non-null  object \n",
      " 2   Description  327110 non-null  object \n",
      " 3   Quantity     327110 non-null  int64  \n",
      " 4   InvoiceDate  327110 non-null  object \n",
      " 5   Price        327110 non-null  float64\n",
      " 6   Customer ID  327110 non-null  float64\n",
      " 7   Country      327110 non-null  object \n",
      "dtypes: float64(2), int64(1), object(5)\n",
      "memory usage: 22.5+ MB\n"
     ]
    }
   ],
   "source": [
    "df.info()"
   ]
  },
  {
   "cell_type": "code",
   "execution_count": 38,
   "metadata": {},
   "outputs": [
    {
     "name": "stderr",
     "output_type": "stream",
     "text": [
      "WARNING: Skipping matplotlib as it is not installed.\n"
     ]
    },
    {
     "name": "stdout",
     "output_type": "stream",
     "text": [
      "Collecting matplotlib\n",
      "  Downloading matplotlib-3.10.0-cp313-cp313-win_amd64.whl.metadata (11 kB)\n",
      "Collecting contourpy>=1.0.1 (from matplotlib)\n",
      "  Downloading contourpy-1.3.1-cp313-cp313-win_amd64.whl.metadata (5.4 kB)\n",
      "Collecting cycler>=0.10 (from matplotlib)\n",
      "  Downloading cycler-0.12.1-py3-none-any.whl.metadata (3.8 kB)\n",
      "Collecting fonttools>=4.22.0 (from matplotlib)\n",
      "  Downloading fonttools-4.55.6-cp313-cp313-win_amd64.whl.metadata (169 kB)\n",
      "Collecting kiwisolver>=1.3.1 (from matplotlib)\n",
      "  Downloading kiwisolver-1.4.8-cp313-cp313-win_amd64.whl.metadata (6.3 kB)\n",
      "Requirement already satisfied: numpy>=1.23 in c:\\users\\nikhiljain\\appdata\\local\\programs\\python\\python313\\lib\\site-packages (from matplotlib) (2.2.2)\n",
      "Requirement already satisfied: packaging>=20.0 in c:\\users\\nikhiljain\\appdata\\roaming\\python\\python313\\site-packages (from matplotlib) (24.2)\n",
      "Collecting pillow>=8 (from matplotlib)\n",
      "  Downloading pillow-11.1.0-cp313-cp313-win_amd64.whl.metadata (9.3 kB)\n",
      "Collecting pyparsing>=2.3.1 (from matplotlib)\n",
      "  Downloading pyparsing-3.2.1-py3-none-any.whl.metadata (5.0 kB)\n",
      "Requirement already satisfied: python-dateutil>=2.7 in c:\\users\\nikhiljain\\appdata\\roaming\\python\\python313\\site-packages (from matplotlib) (2.9.0.post0)\n",
      "Requirement already satisfied: six>=1.5 in c:\\users\\nikhiljain\\appdata\\roaming\\python\\python313\\site-packages (from python-dateutil>=2.7->matplotlib) (1.17.0)\n",
      "Downloading matplotlib-3.10.0-cp313-cp313-win_amd64.whl (8.0 MB)\n",
      "   ---------------------------------------- 0.0/8.0 MB ? eta -:--:--\n",
      "   ----- ---------------------------------- 1.0/8.0 MB 22.5 MB/s eta 0:00:01\n",
      "   ----------- ---------------------------- 2.4/8.0 MB 8.1 MB/s eta 0:00:01\n",
      "   ------------------- -------------------- 3.9/8.0 MB 7.3 MB/s eta 0:00:01\n",
      "   --------------------------- ------------ 5.5/8.0 MB 7.1 MB/s eta 0:00:01\n",
      "   --------------------------------- ------ 6.8/8.0 MB 7.0 MB/s eta 0:00:01\n",
      "   ---------------------------------------  7.9/8.0 MB 6.8 MB/s eta 0:00:01\n",
      "   ---------------------------------------- 8.0/8.0 MB 6.5 MB/s eta 0:00:00\n",
      "Downloading contourpy-1.3.1-cp313-cp313-win_amd64.whl (220 kB)\n",
      "Downloading cycler-0.12.1-py3-none-any.whl (8.3 kB)\n",
      "Downloading fonttools-4.55.6-cp313-cp313-win_amd64.whl (2.2 MB)\n",
      "   ---------------------------------------- 0.0/2.2 MB ? eta -:--:--\n",
      "   -------------- ------------------------- 0.8/2.2 MB 4.3 MB/s eta 0:00:01\n",
      "   ------------------------------------- -- 2.1/2.2 MB 5.4 MB/s eta 0:00:01\n",
      "   ---------------------------------------- 2.2/2.2 MB 5.0 MB/s eta 0:00:00\n",
      "Downloading kiwisolver-1.4.8-cp313-cp313-win_amd64.whl (71 kB)\n",
      "Downloading pillow-11.1.0-cp313-cp313-win_amd64.whl (2.6 MB)\n",
      "   ---------------------------------------- 0.0/2.6 MB ? eta -:--:--\n",
      "   ------------------- -------------------- 1.3/2.6 MB 6.9 MB/s eta 0:00:01\n",
      "   ---------------------------------------- 2.6/2.6 MB 6.6 MB/s eta 0:00:00\n",
      "Downloading pyparsing-3.2.1-py3-none-any.whl (107 kB)\n",
      "Installing collected packages: pyparsing, pillow, kiwisolver, fonttools, cycler, contourpy, matplotlib\n",
      "Successfully installed contourpy-1.3.1 cycler-0.12.1 fonttools-4.55.6 kiwisolver-1.4.8 matplotlib-3.10.0 pillow-11.1.0 pyparsing-3.2.1\n"
     ]
    },
    {
     "name": "stderr",
     "output_type": "stream",
     "text": [
      "  WARNING: The scripts fonttools.exe, pyftmerge.exe, pyftsubset.exe and ttx.exe are installed in 'c:\\Users\\NikhilJain\\AppData\\Local\\Programs\\Python\\Python313\\Scripts' which is not on PATH.\n",
      "  Consider adding this directory to PATH or, if you prefer to suppress this warning, use --no-warn-script-location.\n"
     ]
    }
   ],
   "source": [
    "!python -m pip uninstall matplotlib\n",
    "!python -m pip install matplotlib"
   ]
  },
  {
   "cell_type": "code",
   "execution_count": 8,
   "metadata": {},
   "outputs": [
    {
     "data": {
      "text/plain": [
       "<Axes: title={'center': 'Time Series of Price'}, xlabel='InvoiceDate'>"
      ]
     },
     "execution_count": 8,
     "metadata": {},
     "output_type": "execute_result"
    },
    {
     "data": {
      "image/png": "[encoded data removed]",
      "text/plain": [
       "<Figure size 1000x600 with 1 Axes>"
      ]
     },
     "metadata": {},
     "output_type": "display_data"
    }
   ],
   "source": [
    "#Plot time series of price using pandas functionality. Filter transactions based on date\n",
    "df['InvoiceDate'] = pd.to_datetime(df['InvoiceDate'],format='%d-%m-%Y %H:%M',errors=\"coerce\")   \n",
    "df.set_index('InvoiceDate', inplace=True)\n",
    "df['Price'].plot(figsize=(10, 6), title='Time Series of Price')\n"
   ]
  },
  {
   "cell_type": "code",
   "execution_count": 17,
   "metadata": {},
   "outputs": [
    {
     "data": {
      "text/plain": [
       "<Axes: title={'center': 'Price Time Series (Quantity < 1000, Year 2011)'}>"
      ]
     },
     "execution_count": 17,
     "metadata": {},
     "output_type": "execute_result"
    },
    {
     "data": {
      "image/png": "[encoded data removed]",
      "text/plain": [
       "<Figure size 1000x600 with 1 Axes>"
      ]
     },
     "metadata": {},
     "output_type": "display_data"
    }
   ],
   "source": [
    "# Plot time series chart of price where quantity less than 1000 and in year 2011.\n",
    "df['InvoiceDate'] = pd.to_datetime(df['InvoiceDate'],format='%d-%m-%Y %H:%M',errors=\"coerce\") # Filter data for the year 2011 and quantity less than 0\n",
    "df_filtered=df[(df['Quantity']<1000)& (df['InvoiceDate'].dt.year==2011)]\n",
    "df_filtered['Price'].plot(figsize=(10, 6), title='Price Time Series (Quantity < 1000, Year 2011)')\n"
   ]
  },
  {
   "cell_type": "code",
   "execution_count": 18,
   "metadata": {},
   "outputs": [],
   "source": [
    "# Calculate total amount of price in pivot table based on product description\n",
    "df['TotalPrice'] = df['Quantity'] * df['Price']\n",
    "pivot_table = df.pivot_table(values='TotalPrice', index='Description', aggfunc='sum')\n"
   ]
  },
  {
   "cell_type": "code",
   "execution_count": 21,
   "metadata": {},
   "outputs": [
    {
     "data": {
      "text/html": [
       "<div>\n",
       "<style scoped>\n",
       "    .dataframe tbody tr th:only-of-type {\n",
       "        vertical-align: middle;\n",
       "    }\n",
       "\n",
       "    .dataframe tbody tr th {\n",
       "        vertical-align: top;\n",
       "    }\n",
       "\n",
       "    .dataframe thead th {\n",
       "        text-align: right;\n",
       "    }\n",
       "</style>\n",
       "<table border=\"1\" class=\"dataframe\">\n",
       "  <thead>\n",
       "    <tr style=\"text-align: right;\">\n",
       "      <th></th>\n",
       "      <th>TotalPrice</th>\n",
       "    </tr>\n",
       "    <tr>\n",
       "      <th>Description</th>\n",
       "      <th></th>\n",
       "    </tr>\n",
       "  </thead>\n",
       "  <tbody>\n",
       "    <tr>\n",
       "      <th>DOORMAT UNION JACK GUNS AND ROSES</th>\n",
       "      <td>1206.81</td>\n",
       "    </tr>\n",
       "    <tr>\n",
       "      <th>3 STRIPEY MICE FELTCRAFT</th>\n",
       "      <td>1328.38</td>\n",
       "    </tr>\n",
       "    <tr>\n",
       "      <th>4 PURPLE FLOCK DINNER CANDLES</th>\n",
       "      <td>73.87</td>\n",
       "    </tr>\n",
       "    <tr>\n",
       "      <th>ANIMAL STICKERS</th>\n",
       "      <td>80.85</td>\n",
       "    </tr>\n",
       "    <tr>\n",
       "      <th>BLACK PIRATE TREASURE CHEST</th>\n",
       "      <td>111.78</td>\n",
       "    </tr>\n",
       "    <tr>\n",
       "      <th>BROWN  PIRATE TREASURE CHEST</th>\n",
       "      <td>138.22</td>\n",
       "    </tr>\n",
       "    <tr>\n",
       "      <th>Bank Charges</th>\n",
       "      <td>-2068.96</td>\n",
       "    </tr>\n",
       "    <tr>\n",
       "      <th>CAMPHOR WOOD PORTOBELLO MUSHROOM</th>\n",
       "      <td>122.36</td>\n",
       "    </tr>\n",
       "    <tr>\n",
       "      <th>CHERRY BLOSSOM  DECORATIVE FLASK</th>\n",
       "      <td>1100.42</td>\n",
       "    </tr>\n",
       "    <tr>\n",
       "      <th>FAIRY CAKE CANDLES</th>\n",
       "      <td>202.05</td>\n",
       "    </tr>\n",
       "  </tbody>\n",
       "</table>\n",
       "</div>"
      ],
      "text/plain": [
       "                                    TotalPrice\n",
       "Description                                   \n",
       " DOORMAT UNION JACK GUNS AND ROSES     1206.81\n",
       "3 STRIPEY MICE FELTCRAFT               1328.38\n",
       "4 PURPLE FLOCK DINNER CANDLES            73.87\n",
       "ANIMAL STICKERS                          80.85\n",
       "BLACK PIRATE TREASURE CHEST             111.78\n",
       "BROWN  PIRATE TREASURE CHEST            138.22\n",
       "Bank Charges                          -2068.96\n",
       "CAMPHOR WOOD PORTOBELLO MUSHROOM        122.36\n",
       "CHERRY BLOSSOM  DECORATIVE FLASK       1100.42\n",
       "FAIRY CAKE CANDLES                      202.05"
      ]
     },
     "execution_count": 21,
     "metadata": {},
     "output_type": "execute_result"
    }
   ],
   "source": [
    "pivot_table.head(10)"
   ]
  },
  {
   "cell_type": "code",
   "execution_count": 22,
   "metadata": {},
   "outputs": [
    {
     "data": {
      "text/plain": [
       "('United Kingdom', 'DOTCOM POSTAGE')"
      ]
     },
     "execution_count": 22,
     "metadata": {},
     "output_type": "execute_result"
    }
   ],
   "source": [
    "\n",
    "# Find the country with the highest price and which product\n",
    "country_product = df.groupby(['Country', 'Description'])['TotalPrice'].sum().idxmax()\n",
    "country_product"
   ]
  },
  {
   "cell_type": "code",
   "execution_count": 23,
   "metadata": {},
   "outputs": [
    {
     "data": {
      "text/plain": [
       "np.float64(134128.43)"
      ]
     },
     "execution_count": 23,
     "metadata": {},
     "output_type": "execute_result"
    }
   ],
   "source": [
    "highest_price_value = df.groupby(['Country', 'Description'])['TotalPrice'].sum().max()\n",
    "highest_price_value"
   ]
  },
  {
   "cell_type": "code",
   "execution_count": 24,
   "metadata": {},
   "outputs": [
    {
     "data": {
      "text/plain": [
       "Description\n",
       "Adjust bad debt                     -53594.36\n",
       " FLAMINGO LIGHTS                         0.00\n",
       "12'S SOLD AS 1?                          0.00\n",
       "17129c                                   0.00\n",
       "4 TRADITIONAL SPINNING TOPS              0.00\n",
       "?                                        0.00\n",
       "?????                                    0.00\n",
       "ADVENT CALENDAR GINGHAM SACK             0.00\n",
       "AIRLINE BAG VINTAGE JET SET BROWN        0.00\n",
       "AIRLINE BAG VINTAGE JET SET RED          0.00\n",
       "Name: Price, dtype: float64"
      ]
     },
     "execution_count": 24,
     "metadata": {},
     "output_type": "execute_result"
    }
   ],
   "source": [
    "# Top 10 products with minimum price in the year 2010\n",
    "df_2010 = df[df['InvoiceDate'].dt.year == 2010]\n",
    "top_10_min_price_2010 = df_2010.groupby('Description')['Price'].min().nsmallest(10)\n",
    "top_10_min_price_2010"
   ]
  },
  {
   "cell_type": "markdown",
   "metadata": {},
   "source": [
    "#### Write python program to extract email address from dataframe column. Please use  following sample dataframe.\n",
    "data = {\n",
    " \"Company Name\": [\"ABC Inc.\", \"XYZ Corporation\", \"Tech Solutions Ltd.\", \n",
    "\"Global Services LLC\", \"Innovative Ventures\"],\n",
    " \"Description\": [\"Contact us at info@abcinc.com for more information.\",\n",
    " \"For inquiries, email us at contact@xyzcorp.com.\",\n",
    " \"Tech Solutions Ltd. provides support via \n",
    "support@techsolutions.com.\",\n",
    " \"Reach out to us at info@globalservicesllc.net for business inquiries.\",\n",
    " \"Email us at hello@innovativeventures.org for partnership \n",
    "opportunities.\"]\n",
    "}\n",
    "\n"
   ]
  },
  {
   "cell_type": "code",
   "execution_count": 25,
   "metadata": {},
   "outputs": [],
   "source": [
    "data={\n",
    "    \"Company Name\": [\n",
    "        \"ABC Inc.\", \n",
    "        \"XYZ Corporation\", \n",
    "        \"Tech Solutions Ltd.\", \n",
    "        \"Global Services LLC\", \n",
    "        \"Innovative Ventures\"\n",
    "    ],\n",
    "    \"Description\": [\n",
    "        \"Contact us at info@abcinc.com for more information.\",\n",
    "        \"For inquiries, email us at contact@xyzcorp.com.\",\n",
    "        \"Tech Solutions Ltd. provides support via support@techsolutions.com.\",\n",
    "        \"Reach out to us at info@globalservicesllc.net for business inquiries.\",\n",
    "          \"Email us at hello@innovativeventures.org for partnership opportunities.\"\n",
    "    ]\n",
    "}"
   ]
  },
  {
   "cell_type": "code",
   "execution_count": 26,
   "metadata": {},
   "outputs": [],
   "source": [
    "df=pd.DataFrame(data)\n"
   ]
  },
  {
   "cell_type": "code",
   "execution_count": 27,
   "metadata": {},
   "outputs": [],
   "source": [
    "import re"
   ]
  },
  {
   "cell_type": "code",
   "execution_count": 32,
   "metadata": {},
   "outputs": [],
   "source": [
    "# #PAttern to match Email\n",
    "def match_mail(imput_mail):\n",
    "    \"\"\" This function matches unser input discription with mail pattern and extracts the email\n",
    "      Args:\n",
    "        String : input column with lot of semi-tructured\n",
    "        Returns: List Email column\"\"\"\n",
    "    email_pattern=r'[a-zA-Z0-9.-]+@[a-zA-Z0-9.-]+\\.[a-zA-Z]{2,}'\n",
    "    # email_pattern = r'[\\w\\.-]+@[\\w\\.-]+\\.\\w+'\n",
    "    emails=re.findall(email_pattern,imput_mail)\n",
    "    return emails[0]\n",
    "\n",
    "df['email_Address']=df['Description'].apply(match_mail)\n"
   ]
  },
  {
   "cell_type": "code",
   "execution_count": 33,
   "metadata": {},
   "outputs": [
    {
     "data": {
      "text/html": [
       "<div>\n",
       "<style scoped>\n",
       "    .dataframe tbody tr th:only-of-type {\n",
       "        vertical-align: middle;\n",
       "    }\n",
       "\n",
       "    .dataframe tbody tr th {\n",
       "        vertical-align: top;\n",
       "    }\n",
       "\n",
       "    .dataframe thead th {\n",
       "        text-align: right;\n",
       "    }\n",
       "</style>\n",
       "<table border=\"1\" class=\"dataframe\">\n",
       "  <thead>\n",
       "    <tr style=\"text-align: right;\">\n",
       "      <th></th>\n",
       "      <th>Company Name</th>\n",
       "      <th>Description</th>\n",
       "      <th>email_Address</th>\n",
       "    </tr>\n",
       "  </thead>\n",
       "  <tbody>\n",
       "    <tr>\n",
       "      <th>0</th>\n",
       "      <td>ABC Inc.</td>\n",
       "      <td>Contact us at info@abcinc.com for more informa...</td>\n",
       "      <td>info@abcinc.com</td>\n",
       "    </tr>\n",
       "    <tr>\n",
       "      <th>1</th>\n",
       "      <td>XYZ Corporation</td>\n",
       "      <td>For inquiries, email us at contact@xyzcorp.com.</td>\n",
       "      <td>contact@xyzcorp.com</td>\n",
       "    </tr>\n",
       "    <tr>\n",
       "      <th>2</th>\n",
       "      <td>Tech Solutions Ltd.</td>\n",
       "      <td>Tech Solutions Ltd. provides support via suppo...</td>\n",
       "      <td>support@techsolutions.com</td>\n",
       "    </tr>\n",
       "    <tr>\n",
       "      <th>3</th>\n",
       "      <td>Global Services LLC</td>\n",
       "      <td>Reach out to us at info@globalservicesllc.net ...</td>\n",
       "      <td>info@globalservicesllc.net</td>\n",
       "    </tr>\n",
       "    <tr>\n",
       "      <th>4</th>\n",
       "      <td>Innovative Ventures</td>\n",
       "      <td>Email us at hello@innovativeventures.org for p...</td>\n",
       "      <td>hello@innovativeventures.org</td>\n",
       "    </tr>\n",
       "  </tbody>\n",
       "</table>\n",
       "</div>"
      ],
      "text/plain": [
       "          Company Name                                        Description  \\\n",
       "0             ABC Inc.  Contact us at info@abcinc.com for more informa...   \n",
       "1      XYZ Corporation    For inquiries, email us at contact@xyzcorp.com.   \n",
       "2  Tech Solutions Ltd.  Tech Solutions Ltd. provides support via suppo...   \n",
       "3  Global Services LLC  Reach out to us at info@globalservicesllc.net ...   \n",
       "4  Innovative Ventures  Email us at hello@innovativeventures.org for p...   \n",
       "\n",
       "                  email_Address  \n",
       "0               info@abcinc.com  \n",
       "1           contact@xyzcorp.com  \n",
       "2     support@techsolutions.com  \n",
       "3    info@globalservicesllc.net  \n",
       "4  hello@innovativeventures.org  "
      ]
     },
     "execution_count": 33,
     "metadata": {},
     "output_type": "execute_result"
    }
   ],
   "source": [
    "# df.drop(['email_Address','email_Address2'],axis=1,inplace=True)\n",
    "df"
   ]
  },
  {
   "cell_type": "markdown",
   "metadata": {},
   "source": [
    "#### Write function which takes string as input and returns dictionary that contains each  word and its frequency. Take input from user and use regex for matching patterns\n",
    "E.g text = \"Hello world, hello python. Python is a programming language.\"\n",
    "Output: \n",
    "{\n",
    " \"hello\": 2,\n",
    " \"world\": 1,\n",
    " \"python\": 2,\n",
    " \"is\": 1,\n",
    " \"a\": 1,\n",
    " \"programming\": 1,\n",
    " \"language\": 1\n",
    "}"
   ]
  },
  {
   "cell_type": "code",
   "execution_count": 5,
   "metadata": {},
   "outputs": [
    {
     "name": "stdout",
     "output_type": "stream",
     "text": [
      "{'the': 2, 'data': 2, 'about': 1, 'or': 1, 'database': 1, 'is': 1, 'known': 1, 'as': 1, 'metadata': 1}\n"
     ]
    }
   ],
   "source": [
    "def word_frequency(text):\n",
    "    \"\"\" This function teake user input and calculates occurence of each  word and add it to dictonary\n",
    "    \n",
    "     Args:\n",
    "        String: User input String anty \n",
    "        Returns:dictornary with word count and occurences\"\"\"\n",
    "    words=re.findall(r'\\b\\w+\\b',text.lower())\n",
    "    word_Count={}\n",
    "\n",
    "    for word in words:\n",
    "        if word in word_Count:\n",
    "            word_Count[word]+=1\n",
    "        else:\n",
    "            word_Count[word]=1\n",
    "    return word_Count\n",
    "\n",
    "text=\"The data about the data or database is known as metadata\"\n",
    "print(word_frequency(text)) \n",
    "\n"
   ]
  }
 ],
 "metadata": {
  "kernelspec": {
   "display_name": "Python 3",
   "language": "python",
   "name": "python3"
  },
  "language_info": {
   "codemirror_mode": {
    "name": "ipython",
    "version": 3
   },
   "file_extension": ".py",
   "mimetype": "text/x-python",
   "name": "python",
   "nbconvert_exporter": "python",
   "pygments_lexer": "ipython3",
   "version": "3.13.1"
  }
 },
 "nbformat": 4,
 "nbformat_minor": 2
}
